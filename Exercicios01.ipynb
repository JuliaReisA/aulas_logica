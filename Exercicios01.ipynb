{
 "cells": [
  {
   "cell_type": "code",
   "execution_count": null,
   "metadata": {},
   "outputs": [],
   "source": [
    "00 - Faça um programa que leia algo pelo teclado e mostre na tela seu tipo primitivo "
   ]
  },
  {
   "cell_type": "code",
   "execution_count": null,
   "metadata": {},
   "outputs": [],
   "source": [
    "print ('Esta tudo bem')"
   ]
  },
  {
   "cell_type": "markdown",
   "metadata": {},
   "source": [
    "01 - Crie um programa que leia dois números e mostre a soma entre eles"
   ]
  },
  {
   "cell_type": "code",
   "execution_count": null,
   "metadata": {},
   "outputs": [],
   "source": [
    "print (10 + 10)"
   ]
  },
  {
   "cell_type": "markdown",
   "metadata": {},
   "source": [
    "02 - Crie um programa que leia um número inteiro e mostre na tela o seu sucessor e antecessor"
   ]
  },
  {
   "cell_type": "code",
   "execution_count": 2,
   "metadata": {},
   "outputs": [
    {
     "name": "stdout",
     "output_type": "stream",
     "text": [
      " o numero é 50, seu antecessor é 49 e seu sucessor é 51\n"
     ]
    }
   ],
   "source": [
    "numero = int(input('digite um número inteiro'))\n",
    "antecessor = (numero - 1)\n",
    "sucessor = numero + 1 \n",
    "print(f' o numero é {numero}, seu antecessor é {antecessor} e seu sucessor é {sucessor}')"
   ]
  },
  {
   "cell_type": "markdown",
   "metadata": {},
   "source": [
    "03 - Crie um programa que leia um número e mostre o seu dobro, triplo e raiz quadrada"
   ]
  },
  {
   "cell_type": "code",
   "execution_count": 2,
   "metadata": {},
   "outputs": [
    {
     "name": "stdout",
     "output_type": "stream",
     "text": [
      "12 18 2.449489742783178\n"
     ]
    }
   ],
   "source": [
    "#Exibir o número \n",
    "numero = 6\n",
    "dobro = numero * 2\n",
    "triplo = numero * 3\n",
    "raiz_quadrada = numero ** 0.5\n",
    "print ( dobro , triplo , raiz_quadrada)\n"
   ]
  },
  {
   "cell_type": "markdown",
   "metadata": {},
   "source": [
    "04- Crie um programa que leia duas notas de um aluno, calcule e mostre sua média"
   ]
  },
  {
   "cell_type": "code",
   "execution_count": 4,
   "metadata": {},
   "outputs": [
    {
     "name": "stdout",
     "output_type": "stream",
     "text": [
      "4.0\n"
     ]
    }
   ],
   "source": [
    "#Exibir primeira nota\n",
    "nota1 = 5.0\n",
    "nota2 = 3.0\n",
    "média = (nota1 + nota2) / 2 \n",
    "print (média)"
   ]
  },
  {
   "cell_type": "markdown",
   "metadata": {},
   "source": [
    "05 - Crie um programa que leia o valor em metros e o exiba convertido em centímetros e milímetros"
   ]
  },
  {
   "cell_type": "code",
   "execution_count": 4,
   "metadata": {},
   "outputs": [
    {
     "name": "stdout",
     "output_type": "stream",
     "text": [
      "o numero em metros é 10.0 m, em centimetros é 1000.0 cm e em milimetros é 10000.0 mm\n"
     ]
    }
   ],
   "source": [
    "metro = float(input(' Insira uma medida em metros'))\n",
    "numerocnt = metro * 100\n",
    "numeroml = metro * 1000\n",
    "print(f'o numero em metros é {metro} m, em centimetros é {numerocnt} cm e em milimetros é {numeroml} mm')"
   ]
  },
  {
   "cell_type": "markdown",
   "metadata": {},
   "source": [
    "06 - Crie um programa que leia um numero qualquer e mostre na tela a sua tabuada"
   ]
  },
  {
   "cell_type": "code",
   "execution_count": null,
   "metadata": {},
   "outputs": [],
   "source": [
    "numero = 4\n",
    "print (f'{numero} x 1 = {numero * 1}')\n",
    "print (f'{numero} x 2 = {numero * 2}')\n",
    "print (f'{numero} x 3 = {numero * 3}')\n",
    "print (f'{numero} x 4 = {numero * 4}')\n",
    "print (f'{numero} x 5 = {numero * 5}')\n",
    "print (f'{numero} x 6 = {numero * 6}')\n",
    "print (f'{numero} x 7 = {numero * 7}')\n",
    "print (f'{numero} x 8 = {numero * 8}')\n",
    "print (f'{numero} x 9 = {numero * 9}')\n",
    "print (f'{numero} x 10 = {numero * 10}')"
   ]
  },
  {
   "cell_type": "markdown",
   "metadata": {},
   "source": [
    "07 - Crie um programa que leia quanto dinheiro a pessoa tem na carteira e mostre quantos dólares ela pode contar"
   ]
  },
  {
   "cell_type": "code",
   "execution_count": null,
   "metadata": {},
   "outputs": [],
   "source": [
    "real = int (input) ('Quanto dinheiro você tem na carteira:')\n",
    "dolar = real / 5\n",
    "print (f'Você tem {dolar}')"
   ]
  },
  {
   "cell_type": "markdown",
   "metadata": {},
   "source": [
    "08"
   ]
  },
  {
   "cell_type": "code",
   "execution_count": null,
   "metadata": {},
   "outputs": [],
   "source": [
    "largura = int(input('quanto é a largura da parede?'))\n",
    "altura = int(input('qual é a altura da parede?'))\n",
    "area = largura * altura \n",
    "litros = area / 2\n",
    "print(f' para a área de {area} metros, é necessario{litros} litros de tinta')"
   ]
  },
  {
   "cell_type": "markdown",
   "metadata": {},
   "source": [
    "09"
   ]
  },
  {
   "cell_type": "code",
   "execution_count": null,
   "metadata": {},
   "outputs": [],
   "source": [
    "valor = float(input('digite o valor'))\n",
    "desconto = valor * 5 / 100\n",
    "valor = valor - desconto \n",
    "print(valor)"
   ]
  },
  {
   "cell_type": "markdown",
   "metadata": {},
   "source": [
    "10"
   ]
  },
  {
   "cell_type": "code",
   "execution_count": null,
   "metadata": {},
   "outputs": [],
   "source": [
    "salario = float(input('digite o salario:'))\n",
    "aumento = (salario / 100) * 15\n",
    "novosalario = salario + aumento \n",
    "print(f'O seu novo salário é {novosalario}')"
   ]
  },
  {
   "cell_type": "markdown",
   "metadata": {},
   "source": [
    "11"
   ]
  },
  {
   "cell_type": "code",
   "execution_count": null,
   "metadata": {},
   "outputs": [],
   "source": [
    "graus = float(input('Digite a temperatura em ºC'))\n",
    "valor = graus * 1.8 + 32\n",
    "print(f'{graus} ºC é igual a {valor}ºF')"
   ]
  },
  {
   "cell_type": "markdown",
   "metadata": {},
   "source": [
    "12"
   ]
  },
  {
   "cell_type": "code",
   "execution_count": null,
   "metadata": {},
   "outputs": [],
   "source": [
    "km_percorridos = float(input('Digite o km percorrido'))\n",
    "dias = int(input('Digite a quantidade de dias'))\n",
    "pagar = (60 * dias) + (0.15 * km_percorridos)\n",
    "print( f'O valor total será de R${pagar:.2f}')"
   ]
  },
  {
   "cell_type": "markdown",
   "metadata": {},
   "source": [
    "Atividade 2 "
   ]
  },
  {
   "cell_type": "markdown",
   "metadata": {},
   "source": [
    "01 Leia 2 notas de um aluno, calcule a média e imprima aprovado ou reprovado (para ser\n",
    "aprovado a média deve ser no mínimo 7)"
   ]
  },
  {
   "cell_type": "code",
   "execution_count": 8,
   "metadata": {},
   "outputs": [
    {
     "name": "stdout",
     "output_type": "stream",
     "text": [
      "reprovado\n",
      "fim\n"
     ]
    }
   ],
   "source": [
    "nota = int(input('qual a nota'))\n",
    "if nota >= 7:\n",
    "    print('aprovado')\n",
    "else:\n",
    "    print('reprovado')\n",
    "    print('fim')"
   ]
  },
  {
   "cell_type": "markdown",
   "metadata": {},
   "source": [
    "02- Peça dois números ao usuário e mostre qual o maior e qual o menor"
   ]
  },
  {
   "cell_type": "code",
   "execution_count": null,
   "metadata": {},
   "outputs": [],
   "source": [
    "numero1 = input ('Digite o primeiro número ')\n",
    "numero2 = input ('Digite o segundo número')\n",
    "if numero1 >= numero :\n",
    "    print (f'{numero1} é maior que {numero2}')\n",
    "else:\n",
    "    print (f'{numero1} é menor que {numero2}')"
   ]
  },
  {
   "cell_type": "markdown",
   "metadata": {},
   "source": [
    "03 - Receba um inteiro e diga se é par ou ímpar"
   ]
  },
  {
   "cell_type": "code",
   "execution_count": null,
   "metadata": {},
   "outputs": [],
   "source": [
    "numero_inteiro = int (input ('Digite o número inteiro'))\n",
    "if numero_inteiro % 2 == 0 :\n",
    "    print (f'O {numero_inteiro} é par')\n",
    "else :\n",
    "    print (f'o {numero_inteiro} é ímpar')"
   ]
  },
  {
   "cell_type": "markdown",
   "metadata": {},
   "source": [
    "04 - Receba um número inteiro e diga se é positivo ou negativo "
   ]
  }
 ],
 "metadata": {
  "kernelspec": {
   "display_name": "Python 3",
   "language": "python",
   "name": "python3"
  },
  "language_info": {
   "codemirror_mode": {
    "name": "ipython",
    "version": 3
   },
   "file_extension": ".py",
   "mimetype": "text/x-python",
   "name": "python",
   "nbconvert_exporter": "python",
   "pygments_lexer": "ipython3",
   "version": "3.12.2"
  }
 },
 "nbformat": 4,
 "nbformat_minor": 2
}
