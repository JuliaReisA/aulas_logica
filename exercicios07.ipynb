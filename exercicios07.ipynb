{
 "cells": [
  {
   "cell_type": "markdown",
   "metadata": {},
   "source": [
    "1. Crie uma lista de filmes com 7 filmes a sua escolha, e faça as seguintes operações com ela :"
   ]
  },
  {
   "cell_type": "code",
   "execution_count": 7,
   "metadata": {},
   "outputs": [
    {
     "name": "stdout",
     "output_type": "stream",
     "text": [
      "['Shrek', 'O predador', 'Coraline', 'Barbie', 'Rambo', 'Segredo dos animais', 'Nemo']\n",
      "Shrek\n",
      "Barbie\n",
      "['Shrek', 'O predador', 'Coraline', 'Barbie', 'Rambo', 'Segredo dos animais', 'Nemo']\n",
      "['Shrek', 'O predador', 'Coraline', 'Barbie', 'Rambo', 'Mega tubarão', 'Segredo dos animais', 'Nemo']\n",
      "['O predador', 'Coraline', 'Barbie', 'Rambo', 'Mega tubarão', 'Segredo dos animais', 'Nemo']\n",
      "['O predador', 'Coraline', 'Barbie', 'Rambo', 'Mega tubarão', 'Segredo dos animais']\n",
      "['O predador', 'Coraline', 'Barbie']\n",
      "['Barbie', 'Rambo', 'Mega tubarão', 'Segredo dos animais']\n",
      "6\n",
      "['Segredo dos animais', 'Mega tubarão', 'Rambo', 'Barbie', 'Coraline', 'O predador']\n"
     ]
    }
   ],
   "source": [
    "filmes = ['Shrek', 'O predador', 'Coraline', 'Barbie', 'Rambo', 'Segredo dos animais','Nemo']\n",
    "print(filmes)\n",
    "\n",
    "# Exiba apenas o primeiro o filme da lista\n",
    "print(filmes[0])\n",
    "\n",
    "# Exiba o filme da posição 4\n",
    "print(filmes[3])\n",
    "\n",
    "# Substitua o filme da última posição e exiba a lista\n",
    "filmes[6] = 'Nemo'\n",
    "print(filmes)\n",
    "\n",
    "# Insira um novo filme no final da lista e exiba a lista\n",
    "filmes.insert(5, 'Mega tubarão')\n",
    "print(filmes)\n",
    "\n",
    "# Exclua o primeiro filme e exiba a lista\n",
    "filmes.remove('Shrek')\n",
    "print(filmes)\n",
    "\n",
    "# Exclua o último filme e exiba a lista\n",
    "filmes.remove('Nemo')\n",
    "print(filmes)\n",
    "\n",
    "# Exiba os 3 primeiros filmes da lista\n",
    "print(filmes[0:3])\n",
    "\n",
    "\n",
    "# Exiba os 4 últimos filmes da lista\n",
    "print(filmes[-4:])\n",
    "\n",
    "\n",
    "# Exiba a quantidade de filmes atualmente na lista\n",
    "print(len(filmes))\n",
    "\n",
    "# Ordene os filmes em ordem decrescente e exiba-os\n",
    "filmes.reverse()\n",
    "print(filmes)\n",
    "\n",
    "\n"
   ]
  },
  {
   "cell_type": "markdown",
   "metadata": {},
   "source": [
    "2. Crie uma lista com os 20 times do campeonato brasileiro de futebol"
   ]
  },
  {
   "cell_type": "code",
   "execution_count": 8,
   "metadata": {},
   "outputs": [
    {
     "name": "stdout",
     "output_type": "stream",
     "text": [
      "O campeao é Corinthians\n",
      "('Corinthians', 'Palmeiras', 'Atlético-MG', 'Flamengo') irao jogar a libertadores\n",
      "('Vitória', 'Juventude', 'Criciúma', 'Atlético-GO') estão rebaixados para a série B\n"
     ]
    }
   ],
   "source": [
    "times = 'Corinthians', 'Palmeiras', 'Atlético-MG', 'Flamengo', 'Grêmio', 'Botafogo','Red Bull Bragantino', 'Fluminense', 'Athletico -PR', 'Internacional', 'Fortaleza', 'São Paulo', 'Cuiabá', 'Cruzeiro', 'Vasco', 'Bahia', 'Vitória', 'Juventude', 'Criciúma', 'Atlético-GO'\n",
    "# Exiba o primeiro time da lista como campeão\n",
    "print(f'O campeao é {times[0]}')\n",
    "\n",
    "# Exiba os 4 primeiros times como que irão jogar a libertadores\n",
    "print(f'{times[0:4]} irao jogar a libertadores')\n",
    "\n",
    "#Exiba os 4 últimos times como os que estão rebaixados para a série B\n",
    "print(f'{times[-4:]} estão rebaixados para a série B')"
   ]
  },
  {
   "cell_type": "markdown",
   "metadata": {},
   "source": [
    "Crie um programa que receba do usuário através do input 6 comidas e refaça todos\n",
    "os itens do exercício 1"
   ]
  },
  {
   "cell_type": "code",
   "execution_count": null,
   "metadata": {},
   "outputs": [],
   "source": [
    "comidas = []\n",
    "for x in range(6) :\n",
    "    comida_digitada = input('Digite as comidas:')\n",
    "    comidas.append(comida_digitada)\n",
    "    print(comidas)\n",
    "\n",
    "    #Exiba apenas a priemira comida da lista\n",
    "    print(comidas[3])\n",
    "\n",
    "    #Exiba a comida da posição 4\n",
    "    print(comidas[3])\n",
    "\n",
    "    #Substitua a comida da última posição e exiba a lista\n",
    "    comidas[5] = 'Peixe'\n",
    "    print(comidas)\n",
    "\n",
    "    #Insira uma nova comida no final da lista e exiba a lista\n",
    "    comidas.append('Feijoada')\n",
    "    print(comidas)\n",
    "\n",
    "    #Insira uma nova comida  na posição 5 e exiba na lista\n",
    "    comidas.insert(5, 'Sushi')\n",
    "    print(comidas)\n"
   ]
  }
 ],
 "metadata": {
  "kernelspec": {
   "display_name": "Python 3",
   "language": "python",
   "name": "python3"
  },
  "language_info": {
   "codemirror_mode": {
    "name": "ipython",
    "version": 3
   },
   "file_extension": ".py",
   "mimetype": "text/x-python",
   "name": "python",
   "nbconvert_exporter": "python",
   "pygments_lexer": "ipython3",
   "version": "3.12.3"
  }
 },
 "nbformat": 4,
 "nbformat_minor": 2
}
