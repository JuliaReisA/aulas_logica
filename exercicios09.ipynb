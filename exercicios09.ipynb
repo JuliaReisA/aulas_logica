{
 "cells": [
  {
   "cell_type": "markdown",
   "metadata": {},
   "source": [
    " 1. Crie uma função sem parâmetros que exiba uma linha com 50 * , e uma mensagem de boas\n",
    "vindas, chame essa função por 4 vezes"
   ]
  },
  {
   "cell_type": "code",
   "execution_count": 4,
   "metadata": {},
   "outputs": [
    {
     "name": "stdout",
     "output_type": "stream",
     "text": [
      "**************************************************\n",
      "Seja bem vindo\n",
      "**************************************************\n",
      "**************************************************\n",
      "Seja bem vindo\n",
      "**************************************************\n",
      "**************************************************\n",
      "Seja bem vindo\n",
      "**************************************************\n",
      "**************************************************\n",
      "Seja bem vindo\n",
      "**************************************************\n"
     ]
    }
   ],
   "source": [
    "def Linha() :\n",
    "    print('*' * 50)\n",
    "    print('Seja bem vindo')\n",
    "    print('*' * 50)\n",
    "Linha()\n",
    "Linha()\n",
    "Linha()\n",
    "Linha()\n",
    "\n",
    "\n",
    "\n",
    "\n"
   ]
  },
  {
   "cell_type": "markdown",
   "metadata": {},
   "source": [
    "2. Crie uma função que contenha uma lista com as cores primárias e exiba cada cor em uma\n",
    "linha"
   ]
  },
  {
   "cell_type": "code",
   "execution_count": 1,
   "metadata": {},
   "outputs": [
    {
     "name": "stdout",
     "output_type": "stream",
     "text": [
      "Vermelho\n",
      "Amarelo\n",
      "Azul\n"
     ]
    }
   ],
   "source": [
    "def Cores() :\n",
    "    listaCores = ['Vermelho', 'Amarelo', 'Azul']\n",
    "    for cor in listaCores :\n",
    "        print(cor)\n",
    "\n",
    "Cores()"
   ]
  },
  {
   "cell_type": "markdown",
   "metadata": {},
   "source": [
    "3. Crie uma função que recebe um número como parâmetro e exiba a tabuada até o 10, chame\n",
    "essa função por 3 vezes enviando parâmetros diferentes"
   ]
  },
  {
   "cell_type": "code",
   "execution_count": 3,
   "metadata": {},
   "outputs": [
    {
     "name": "stdout",
     "output_type": "stream",
     "text": [
      "5 x 0 = 0\n",
      "5 x 1 = 5\n",
      "5 x 2 = 10\n",
      "5 x 3 = 15\n",
      "5 x 4 = 20\n",
      "5 x 5 = 25\n",
      "5 x 6 = 30\n",
      "5 x 7 = 35\n",
      "5 x 8 = 40\n",
      "5 x 9 = 45\n",
      "5 x 10 = 50\n"
     ]
    }
   ],
   "source": [
    "def Tabuada(nr) :\n",
    "    for x in range(11) :\n",
    "        print(f'{nr} x {x} = {nr * x}')\n",
    "\n",
    "Tabuada(5)\n",
    "    "
   ]
  },
  {
   "cell_type": "markdown",
   "metadata": {},
   "source": [
    "4. Crie uma função que receba 2 números e o operador matemático para realizar a operação\n",
    "(Ex. envio os parâmetros 2 e 5 e *, fazer a multiplicação), tratar as operações + - * / **"
   ]
  },
  {
   "cell_type": "code",
   "execution_count": 6,
   "metadata": {},
   "outputs": [
    {
     "name": "stdout",
     "output_type": "stream",
     "text": [
      "100000\n"
     ]
    }
   ],
   "source": [
    "def Calculadora(n1, n2, op) :\n",
    "    if op == '+' :\n",
    "        res = n1 +n2\n",
    "    elif op ==  '-' :\n",
    "        res = n1 - n2\n",
    "    elif op ==  '*' :\n",
    "        res = n1 * n2\n",
    "    elif op ==   '/' :\n",
    "        res = n1 / n2\n",
    "    elif op ==  '**' :\n",
    "        res = n1 ** n2\n",
    "    print(res)\n",
    "Calculadora(10, 5, '**') \n",
    "\n",
    "    "
   ]
  },
  {
   "cell_type": "markdown",
   "metadata": {},
   "source": [
    "5. Crie uma função que gere uma senha aleatória, deve receber como parâmetro a quantidade\n",
    "de caracteres que terá a senha, crie uma lista com todos os caracteres disponíveis para a\n",
    "senha e com o random sorteie a qual de dígitos terá a senha"
   ]
  },
  {
   "cell_type": "code",
   "execution_count": 32,
   "metadata": {},
   "outputs": [
    {
     "name": "stdout",
     "output_type": "stream",
     "text": [
      "rrsvlswflplvvmvzftivzpnoirbzovbzqavajrkwdjmzzekmnv\n"
     ]
    }
   ],
   "source": [
    "import random\n",
    "\n",
    "def SenhaAleatoria(tamanho) :\n",
    "    listaCaracteres = 'abcdefghijklmnopqrstuvwyz'\n",
    "    senha = ''\n",
    "    for i in range(tamanho) :\n",
    "        senha = senha + random.choice(listaCaracteres)\n",
    "    return(senha)\n",
    "\n",
    "SenhaTemp = SenhaAleatoria(50)\n",
    "print(SenhaTemp)"
   ]
  }
 ],
 "metadata": {
  "kernelspec": {
   "display_name": "Python 3",
   "language": "python",
   "name": "python3"
  },
  "language_info": {
   "codemirror_mode": {
    "name": "ipython",
    "version": 3
   },
   "file_extension": ".py",
   "mimetype": "text/x-python",
   "name": "python",
   "nbconvert_exporter": "python",
   "pygments_lexer": "ipython3",
   "version": "3.12.3"
  }
 },
 "nbformat": 4,
 "nbformat_minor": 2
}
