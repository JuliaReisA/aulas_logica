{
 "cells": [
  {
   "cell_type": "markdown",
   "metadata": {},
   "source": [
    "Aula 16/02/2024 - \n",
    "Comandos de saída (print) / \n",
    "Tipos de dados (string, int, float, bool) / \n",
    "Operações Aritméticas ( + - * / % **)"
   ]
  },
  {
   "cell_type": "code",
   "execution_count": null,
   "metadata": {},
   "outputs": [],
   "source": [
    "#Este é o meu primeiro código\n",
    "#a função print serve para exibir na tela alguma mensagem\n",
    "print('Olá, mundo!!')\n",
    "\n",
    "print(\"Meu primeiro código em Python. Usando aspas duplas\")\n",
    "print('Meu primeiro código em Python. Usando aspas simples')\n",
    "print('Para duplicar uma linha pressionei shift + alt + Seta Baixo ')\n",
    "\n",
    "print(123)  #Estou exibindo um número inteiro, por isso, não preciso da \"\"\n",
    "print(70.5) #Número float\n",
    "print(True) #Campo lógico (Verdadeiro ou falso) (True ou False)\n",
    "print(\"Sesi\") #Tipo string\n",
    "\n",
    "# Somando 2 números inteiros (o sinal de + para 2 números realiza a SOMA)\n",
    "print(8 + 6)\n",
    "# Porém se forem 2 strings (o sinal de + realiza a CONCATENAÇÃO)\n",
    "print('8' + '6')\n",
    "\n",
    "#Posso imprimir várias informações ao mesmo tempo separando-as por ,\n",
    "print ('string', 10, 70.5, False)\n",
    "\n",
    "print( 10 + 50 )  # + é o operador de SOMA (numero inteiro ou decimal)\n",
    "print( 67 - 13 )  # - é o operador de SUBTRAÇÃO (nº inteiro ou decimal)\n",
    "print( 4214328 * 312321 ) # * é o operador de MULTIPLICAÇÃO\n",
    "print( 4827 / 3 ) # / é o operador de DIVISÃO\n",
    "print( 31 % 3 )   # % é o operador do resto da divisão (MÓDULO)\n",
    "print( 3 ** 3 )   # ** é o operador de exponenciação 3³\n",
    " \n",
    "print ( (8 + 6) / 2) # O Parênteses define a maior ordem de precedência\n"
   ]
  },
  {
   "cell_type": "markdown",
   "metadata": {},
   "source": [
    "Aula 22/02/2024 - Comandos de entrada (input) / Variáveis / Pseudocódigo"
   ]
  },
  {
   "cell_type": "code",
   "execution_count": 1,
   "metadata": {},
   "outputs": [
    {
     "name": "stdout",
     "output_type": "stream",
     "text": [
      "curso\n",
      "Desenvolvimento de Sistemas\n",
      "curso Desenvolvimento de Sistemas\n",
      "Olá Douglas , você tem 36 anos, hoje está fazendo 23.5 ºC\n",
      "Olá Douglas, você tem 36 anos, hoje está fazendo 23.5ºC \n",
      "Douglas 36\n",
      "Ricardo 34\n"
     ]
    },
    {
     "ename": "ValueError",
     "evalue": "invalid literal for int() with base 10: ''",
     "output_type": "error",
     "traceback": [
      "\u001b[1;31m---------------------------------------------------------------------------\u001b[0m",
      "\u001b[1;31mValueError\u001b[0m                                Traceback (most recent call last)",
      "Cell \u001b[1;32mIn[1], line 43\u001b[0m\n\u001b[0;32m     40\u001b[0m nome \u001b[38;5;241m=\u001b[39m \u001b[38;5;28minput\u001b[39m(\u001b[38;5;124m'\u001b[39m\u001b[38;5;124mQual é o seu nome?\u001b[39m\u001b[38;5;124m'\u001b[39m)\n\u001b[0;32m     41\u001b[0m \u001b[38;5;66;03m#Passo 2: Receber a idade da pessoa\u001b[39;00m\n\u001b[0;32m     42\u001b[0m \u001b[38;5;66;03m#Posso converter essa string recebida do tipo inteiro\u001b[39;00m\n\u001b[1;32m---> 43\u001b[0m idade \u001b[38;5;241m=\u001b[39m \u001b[38;5;28;43mint\u001b[39;49m\u001b[43m(\u001b[49m\u001b[38;5;28;43minput\u001b[39;49m\u001b[43m(\u001b[49m\u001b[38;5;124;43m'\u001b[39;49m\u001b[38;5;124;43mQual é a sua idade?\u001b[39;49m\u001b[38;5;124;43m'\u001b[39;49m\u001b[43m)\u001b[49m\u001b[43m)\u001b[49m\n\u001b[0;32m     44\u001b[0m \u001b[38;5;66;03m#Passo 3: Receber o peso da pessoa\u001b[39;00m\n\u001b[0;32m     45\u001b[0m \u001b[38;5;66;03m#Posso converter essa string recebida do tipo float\u001b[39;00m\n\u001b[0;32m     46\u001b[0m peso \u001b[38;5;241m=\u001b[39m \u001b[38;5;28mfloat\u001b[39m(\u001b[38;5;28minput\u001b[39m(\u001b[38;5;124m'\u001b[39m\u001b[38;5;124mQual é o seu peso?\u001b[39m\u001b[38;5;124m'\u001b[39m))\n",
      "\u001b[1;31mValueError\u001b[0m: invalid literal for int() with base 10: ''"
     ]
    }
   ],
   "source": [
    "#Declarando minha primeira variável\n",
    "#lemos da seguinte forma:\n",
    "#variavel curso recebe(=) a string \"Desenvolvimento de Sistemas\"\n",
    "#Receba/Armazene o texto \"Desenvolvimento de Sistemas\"\n",
    "curso = \"Desenvolvimento de Sistemas\"\n",
    "#Exiba o valor armazenado\n",
    "print(\"curso\")   # Para imprimir uma variável não se coloca entre \" \"\n",
    "print(curso)     # Jeito correte de utilizar uma variável\n",
    "print(\"curso\", curso )\n",
    "\n",
    "#Criando e atribuindo uma variavel\n",
    "idade = 36\n",
    "temperatura = 23.5\n",
    "nome = \"Douglas\"\n",
    "#Exiba o valor das 3 variáveis\n",
    "#\"Olá Douglas, você tem 36 anos, hoje está fazendo 23.5 ºC \"\n",
    "print(\"Olá\", nome , \", você tem\", idade ,\"anos, hoje está fazendo\", temperatura, \"ºC\")\n",
    "print(f'Olá {nome}, você tem {idade} anos, hoje está fazendo {temperatura}ºC ')\n",
    "\n",
    "#Declarando variáveis lógicas, recebe apenas True ou False\n",
    "chovendo = False\n",
    "dia = True\n",
    "\n",
    "# Nesta linha abaixo ocorrerá um erro pois não existe uma variável com o \n",
    "# nome salario, então não consegue encontrar nada para exibir\n",
    "# NameError: name 'salario' is not defined\n",
    "# print(\"Salario\", salario)\n",
    "\n",
    "#Declarando um constante, diferentemente da variável que posso alterar o valor\n",
    "# na constante não é permitido, declaramos com o nome todo em maiuscula\n",
    "PI = 3.1415\n",
    "\n",
    "print(nome, idade)\n",
    "idade = 34\n",
    "nome = \"Ricardo\"\n",
    "print(nome, idade)\n",
    "\n",
    "#Passo 1: Receber o nome da pessoa\n",
    "#No input sempre recebemos uma string\n",
    "nome = input('Qual é o seu nome?')\n",
    "#Passo 2: Receber a idade da pessoa\n",
    "#Posso converter essa string recebida do tipo inteiro\n",
    "idade = int(input('Qual é a sua idade?'))\n",
    "#Passo 3: Receber o peso da pessoa\n",
    "#Posso converter essa string recebida do tipo float\n",
    "peso = float(input('Qual é o seu peso?'))\n",
    "#Passo 4: Exibir o noe, a idade e o peso\n",
    "print (nome, idade, peso) \n",
    "print (f'Seu nome é {nome}, você tem {idade} anos e pesa {peso}kg')\n",
    "\n",
    "#Exibindo os tipos das variáveis\n",
    "#Tudo o que recebemos do input é do tipo string\n",
    "print(type(nome), type(idade), type(peso))\n"
   ]
  },
  {
   "cell_type": "markdown",
   "metadata": {},
   "source": [
    "23/02/2024 - Operações com variáveis"
   ]
  },
  {
   "cell_type": "code",
   "execution_count": 15,
   "metadata": {},
   "outputs": [
    {
     "name": "stdout",
     "output_type": "stream",
     "text": [
      "60.0\n",
      "<class 'float'>\n"
     ]
    }
   ],
   "source": [
    "#Receber o primeiro número\n",
    "numero1 = float(input('Digite o primeiro número: '))\n",
    "#Receber o segundo número\n",
    "numero2 = float(input('Digite o segundo número: '))\n",
    "#Receber o terceiro número\n",
    "numero3 = float(input('Digite o terceiro número:'))\n",
    "#Soma o primeiro número + o segundo número\n",
    "soma = numero1 + numero2 + numero3\n",
    "#Exibir o resultado\n",
    "print(type(soma))\n",
    "print(soma)\n"
   ]
  },
  {
   "cell_type": "code",
   "execution_count": 18,
   "metadata": {},
   "outputs": [
    {
     "name": "stdout",
     "output_type": "stream",
     "text": [
      "9.0\n"
     ]
    }
   ],
   "source": [
    "n1 = float(input('Digite o primeiro número:'))\n",
    "n2 = float(input('Digite o segundo número:'))\n",
    "resultado = n1 * n2\n",
    "print (resultado)\n"
   ]
  },
  {
   "cell_type": "code",
   "execution_count": 19,
   "metadata": {},
   "outputs": [
    {
     "name": "stdout",
     "output_type": "stream",
     "text": [
      "2310.0\n",
      "Você obteve R$ 190.0, e pagou R$ 2310.0\n"
     ]
    }
   ],
   "source": [
    "preco = float(input('Qual o valor do celular?'))\n",
    "desconto = float(input('Qual o valor do desconto?'))\n",
    "preco = preco - desconto  \n",
    "print(preco)\n",
    "print(f'Você obteve R$ {desconto}, e pagou R$ {preco}')"
   ]
  },
  {
   "cell_type": "code",
   "execution_count": 29,
   "metadata": {},
   "outputs": [
    {
     "name": "stdout",
     "output_type": "stream",
     "text": [
      "2.0\n",
      "4.0\n",
      "120.0\n",
      "O valor final é 120.0\n",
      "O valor final é  120.0\n"
     ]
    }
   ],
   "source": [
    "numero = 4 / 2\n",
    "print (numero)\n",
    "numero = numero ** 2\n",
    "print (numero)\n",
    "numero = numero * (50 - 20)\n",
    "print (numero)\n",
    "print (f'O valor final é {numero}')\n",
    "print ('O valor final é ', numero)"
   ]
  },
  {
   "cell_type": "code",
   "execution_count": 30,
   "metadata": {},
   "outputs": [
    {
     "name": "stdout",
     "output_type": "stream",
     "text": [
      "Você deve cobrar R$ 12000\n"
     ]
    }
   ],
   "source": [
    "horas_por_dia = 8\n",
    "dias_totais = 15\n",
    "horas_trabalho = horas_por_dia * dias_totais\n",
    "custo_hora = 100\n",
    "custo_total = horas_trabalho * custo_hora\n",
    "print(f'Você deve cobrar R$ {custo_total}')"
   ]
  },
  {
   "cell_type": "markdown",
   "metadata": {},
   "source": [
    "29/02/2024 - Operadores relacionais e estrutura condicional"
   ]
  },
  {
   "cell_type": "code",
   "execution_count": 1,
   "metadata": {},
   "outputs": [
    {
     "name": "stdout",
     "output_type": "stream",
     "text": [
      "a > b ? False\n",
      "a == b ? False\n",
      "a != b ? True\n",
      "a > 2 ? False\n",
      "a >= 2 ? True\n"
     ]
    }
   ],
   "source": [
    "a = 2\n",
    "b = 3\n",
    "print (f'a > b ? {a > b}')\n",
    "print (f'a == b ? {a == b}')\n",
    "print (f'a != b ? {a != b}')\n",
    "print (f'a > 2 ? {a > 2}')\n",
    "print (f'a >= 2 ? {a >= 2}')"
   ]
  },
  {
   "cell_type": "code",
   "execution_count": 4,
   "metadata": {},
   "outputs": [
    {
     "name": "stdout",
     "output_type": "stream",
     "text": [
      "Posso entrar\n"
     ]
    }
   ],
   "source": [
    "tenho_ingresso = True\n",
    "if tenho_ingresso == True :\n",
    "    print ('Posso entrar')\n",
    "else:\n",
    "    print ('Vá comprar')"
   ]
  },
  {
   "cell_type": "code",
   "execution_count": null,
   "metadata": {},
   "outputs": [],
   "source": [
    "# Passo 1: Receber o valor da idade\n",
    "idade = int(input ('qual sua idade?'))\n",
    "# Passo 2: Verificar SE é maior ou igual a 18 ENTÃO\n",
    "if idade >= 18 : \n",
    "# Passo 3: Se for Exibir \"Maior idade\" \n",
    "    print(\"Maior idade\")\n",
    "else : \n",
    "    print('Você é menor!')\n",
    "print ('FIM')"
   ]
  },
  {
   "cell_type": "markdown",
   "metadata": {},
   "source": [
    "01/03/2024 - Operadores Lógicos e Estrutura condicional"
   ]
  },
  {
   "cell_type": "code",
   "execution_count": null,
   "metadata": {},
   "outputs": [],
   "source": [
    "a = 2\n",
    "b = 3\n",
    "c = 5 \n",
    "#      False    e   False\n",
    "print ((a > 2) and (b < 2)) # False \n",
    "\n",
    "#      False   ou  False\n",
    "print ((a > 2) or (b < 2)) # True\n",
    "\n",
    "#      False   ou  True\n",
    "print ((a > 2) or (b < 5)) # True\n",
    "\n",
    "idade = 18\n",
    "#      False      ou    True\n",
    "print (idade > 18 or idade == 18) # True\n",
    "#      idade >= 18"
   ]
  },
  {
   "cell_type": "code",
   "execution_count": 5,
   "metadata": {},
   "outputs": [
    {
     "name": "stdout",
     "output_type": "stream",
     "text": [
      "Seu IMC é 23.4\n",
      "Peso ideial!\n"
     ]
    }
   ],
   "source": [
    "altura = float (input ('Digite sua altura:'))\n",
    "peso = float (input ('Digite seu peso:'))\n",
    "imc = peso / (altura ** 2) \n",
    "print (f'Seu IMC é {imc:.1f}')\n",
    "if imc < 18.5 :\n",
    "    print ('Abaixo do peso ideial!')\n",
    "elif imc > 18.5 and imc <= 24.9 : \n",
    "    print ('Peso ideial!')\n",
    "elif imc >= 25 and imc <= 29.9 :\n",
    "    print ('Sobrepeso')\n",
    "else: \n",
    "    print ('Não está abaixo do peso')"
   ]
  },
  {
   "cell_type": "code",
   "execution_count": null,
   "metadata": {},
   "outputs": [],
   "source": [
    "lado1 = input ('Digite o lado 1')\n",
    "lado2 = input ('Digite o lado 2')\n",
    "lado3 = input ('Digite o lado 3')\n",
    "if (lado1 == lado2) and (lado2 == lado3):\n",
    "    print ('Triângulo Equilátero')\n",
    "\n",
    "elif (lado1 != lado2) and (lado2 != lado3) and (lado1 != lado3):\n",
    "    print ('Triângulo Escaleno')\n",
    "\n",
    "else:\n",
    "    print ('Triângulo Isósceles')"
   ]
  },
  {
   "cell_type": "code",
   "execution_count": null,
   "metadata": {},
   "outputs": [],
   "source": [
    "letra = input ('Digite uma letra:')\n",
    "if letra == 'a' or letra == 'e' or letra == 'i' or letra == 'o' or letra == 'u':\n",
    "    print(f'A letra {letra} é uma vogal')\n",
    "elif letra == '1' or '2' or '3' or '4' or '5' or '6':\n",
    "    print (f'a letra {letra} é um número')\n",
    "else:\n",
    "    print (f'A letra {letra} não é uma vogal')"
   ]
  },
  {
   "cell_type": "markdown",
   "metadata": {},
   "source": [
    "08/03/2024 - Laço de repetição - While"
   ]
  },
  {
   "cell_type": "code",
   "execution_count": 1,
   "metadata": {},
   "outputs": [
    {
     "name": "stdout",
     "output_type": "stream",
     "text": [
      "Eu vou prestar atenção na aula\n",
      "Eu vou prestar atenção na aula\n",
      "Eu vou prestar atenção na aula\n",
      "Eu vou prestar atenção na aula\n",
      "Eu vou prestar atenção na aula\n",
      "Eu vou prestar atenção na aula\n",
      "Eu vou prestar atenção na aula\n",
      "Eu vou prestar atenção na aula\n",
      "Eu vou prestar atenção na aula\n",
      "Eu vou prestar atenção na aula\n",
      "FIM\n"
     ]
    }
   ],
   "source": [
    "x = 1\n",
    "while x <= 10 :\n",
    "    print('Eu vou prestar atenção na aula')\n",
    "    x = x + 1\n",
    "print('FIM')\n",
    "\n"
   ]
  },
  {
   "cell_type": "code",
   "execution_count": 2,
   "metadata": {},
   "outputs": [
    {
     "name": "stdout",
     "output_type": "stream",
     "text": [
      "11\n",
      "10\n",
      "9\n",
      "8\n",
      "7\n",
      "6\n",
      "5\n",
      "4\n",
      "3\n",
      "2\n",
      "1\n",
      "0\n",
      "Feliz ano novo\n"
     ]
    }
   ],
   "source": [
    "import time #importando uma biblioteca de tempo\n",
    "X = 10\n",
    "while x >= 0 :\n",
    "    print(x)\n",
    "    time.sleep(0.5) #Dando uma pausa de 1s na execução\n",
    "    x = x - 1\n",
    "print('Feliz ano novo')"
   ]
  },
  {
   "cell_type": "code",
   "execution_count": null,
   "metadata": {},
   "outputs": [],
   "source": [
    "texto = ''\n",
    "while texto != 'sair':\n",
    "    texto = input('Digite seu nome (\"sair\" para terminar):')\n",
    "    print(f'Seja bem vindo, {texto}')"
   ]
  },
  {
   "cell_type": "code",
   "execution_count": 1,
   "metadata": {},
   "outputs": [
    {
     "name": "stdout",
     "output_type": "stream",
     "text": [
      "Você esta preso\n",
      "FIM\n"
     ]
    }
   ],
   "source": [
    "senha_senai = '12345'\n",
    "nr_tentativa = 0\n",
    "while True :\n",
    "    senha = input('Qual é a senha? \"Desisto\" para sair')\n",
    "    if senha == senha_senai:\n",
    "            print('Você hackeou a rede')\n",
    "            break\n",
    "    elif senha == 'Desisto':\n",
    "        break\n",
    "    else:\n",
    "         nr_tentativa = nr_tentativa +1\n",
    "         if nr_tentativa == 3:\n",
    "            print('Você esta preso')\n",
    "            break\n",
    "print('FIM')\n",
    "      "
   ]
  },
  {
   "cell_type": "markdown",
   "metadata": {},
   "source": [
    "21/03/2024 - Revisão de While"
   ]
  },
  {
   "cell_type": "code",
   "execution_count": 2,
   "metadata": {},
   "outputs": [
    {
     "name": "stdout",
     "output_type": "stream",
     "text": [
      "FIM\n"
     ]
    }
   ],
   "source": [
    "resp = 'S'\n",
    "while resp == 'S' :\n",
    "    resp = input('Deseja continuar? [S/N]')\n",
    "\n",
    "print('FIM')"
   ]
  },
  {
   "cell_type": "code",
   "execution_count": 5,
   "metadata": {},
   "outputs": [
    {
     "name": "stdout",
     "output_type": "stream",
     "text": [
      "Valor Total R$ 60.00 Qtde Produto 3\n"
     ]
    }
   ],
   "source": [
    "soma = 0\n",
    "qtde = 0\n",
    "while True :\n",
    "    valor = float(input('Digite o valor do produto [-1 para encerrar]'))\n",
    "    if valor == -1 :\n",
    "        break\n",
    "    soma = valor + soma\n",
    "    qtde = qtde + 1 \n",
    "\n",
    "\n",
    "print(f'Valor Total R$ {soma:.2f} Qtde Produto {qtde}')"
   ]
  },
  {
   "cell_type": "code",
   "execution_count": 7,
   "metadata": {},
   "outputs": [
    {
     "name": "stdout",
     "output_type": "stream",
     "text": [
      "-=-=-=-=-=-=-=-=-=-=-=-=-=-=-=-=-=-=-=-=\n",
      "   🌹 JOGO DA ADIVINHAÇÃO 🌹   \n",
      "-=-=-=-=-=-=-=-=-=-=-=-=-=-=-=-=-=-=-=-=\n",
      "Você chutou 70. Tente um número 👆\n",
      "Você chutou 75. Tente um número 👆\n",
      "Você chutou 78. Tente um número 👆\n",
      "Você chutou 78. Tente um número 👆\n",
      "Você chutou 80. Tente um número 👆\n",
      "Você chutou 90. Tente um número 👇\n",
      "Você chutou 85. Tente um número 👇\n",
      "Você chutou 83. Tente um número 👇\n",
      "Você chutou 82. Tente um número 👇\n",
      "Você chutou 81. Parabéns você acertou\n"
     ]
    }
   ],
   "source": [
    "#Importando a biblioteca de números aleatórios\n",
    "import random\n",
    "#Sorteando um número de 1 a 100\n",
    "nrSorteado = random.randint(1, 100)\n",
    "\n",
    "print('-=-=-=-=-=-=-=-=-=-=-=-=-=-=-=-=-=-=-=-=')\n",
    "print('   🌹 JOGO DA ADIVINHAÇÃO 🌹   ')\n",
    "print('-=-=-=-=-=-=-=-=-=-=-=-=-=-=-=-=-=-=-=-=')\n",
    "\n",
    "acertou = False\n",
    "while acertou == False :\n",
    "    chute = int(input(' 🕵️‍♂️ Digite um número entre 1 e 100:'))\n",
    "    if chute == nrSorteado :\n",
    "        print (f'Você chutou {chute}. Parabéns você acertou')\n",
    "        acertou = True \n",
    "    elif chute > nrSorteado :\n",
    "        print(f'Você chutou {chute}. Tente um número 👇')\n",
    "    else :\n",
    "        print (f'Você chutou {chute}. Tente um número 👆')\n",
    "\n",
    "    \n",
    "\n"
   ]
  },
  {
   "cell_type": "markdown",
   "metadata": {},
   "source": [
    "22/03/2024 - For"
   ]
  },
  {
   "cell_type": "code",
   "execution_count": 2,
   "metadata": {},
   "outputs": [
    {
     "name": "stdout",
     "output_type": "stream",
     "text": [
      "0\n",
      "1\n",
      "2\n",
      "3\n",
      "4\n",
      "5\n"
     ]
    }
   ],
   "source": [
    "for x in range(6):\n",
    "    print(x)\n"
   ]
  },
  {
   "cell_type": "code",
   "execution_count": 6,
   "metadata": {},
   "outputs": [
    {
     "name": "stdout",
     "output_type": "stream",
     "text": [
      "Entregando os notebooks\n",
      "Não pegar o notebook 1\n",
      "pegar o notebook 2\n",
      "pegar o mouse 2\n",
      "levar o notebook até o (a)pereira\n",
      "pegar o notebook 3\n",
      "pegar o mouse 3\n",
      "levar o notebook até o (a)camila\n",
      "Começar a aula\n"
     ]
    }
   ],
   "source": [
    "print('Entregando os notebooks')\n",
    "for nr in range(3) :\n",
    "    nr = nr + 1\n",
    "    nome = input(f'Quem é o nº {nr}?')\n",
    "    presente = input(f'O(a) {nome} veio para a escola? [S/N]')\n",
    "    if presente == 'S' :\n",
    "        print(f'pegar o notebook {nr}')\n",
    "        print(f'pegar o mouse {nr}')\n",
    "        print(f'levar o notebook até o (a){nome}')\n",
    "    else :\n",
    "        print(f'Não pegar o notebook {nr}')\n",
    "\n",
    "print(f'Começar a aula')\n"
   ]
  },
  {
   "cell_type": "code",
   "execution_count": 7,
   "metadata": {},
   "outputs": [
    {
     "name": "stdout",
     "output_type": "stream",
     "text": [
      "5\n",
      "6\n",
      "7\n",
      "8\n",
      "9\n"
     ]
    }
   ],
   "source": [
    "for x in range(5, 10):\n",
    "    print(x)"
   ]
  },
  {
   "cell_type": "code",
   "execution_count": 8,
   "metadata": {},
   "outputs": [
    {
     "name": "stdout",
     "output_type": "stream",
     "text": [
      "5\n",
      "7\n",
      "9\n",
      "11\n",
      "13\n",
      "15\n",
      "17\n",
      "19\n",
      "21\n",
      "23\n",
      "25\n",
      "27\n",
      "29\n"
     ]
    }
   ],
   "source": [
    "for x in range(5, 30, 2) :\n",
    "    print(x)"
   ]
  },
  {
   "cell_type": "code",
   "execution_count": 9,
   "metadata": {},
   "outputs": [
    {
     "name": "stdout",
     "output_type": "stream",
     "text": [
      "8 x 8 = 0\n",
      "8 x 8 = 8\n",
      "8 x 8 = 16\n",
      "8 x 8 = 24\n",
      "8 x 8 = 32\n",
      "8 x 8 = 40\n",
      "8 x 8 = 48\n",
      "8 x 8 = 56\n",
      "8 x 8 = 64\n",
      "8 x 8 = 72\n",
      "8 x 8 = 80\n"
     ]
    }
   ],
   "source": [
    "n = int(input('Digite o nr :'))\n",
    "for x in range (11) :\n",
    "    print(f'{n} x {n} = {n*x}')"
   ]
  },
  {
   "cell_type": "code",
   "execution_count": 10,
   "metadata": {},
   "outputs": [
    {
     "name": "stdout",
     "output_type": "stream",
     "text": [
      "S\n",
      "E\n",
      "S\n",
      "I\n",
      "/\n",
      "S\n",
      "E\n",
      "N\n",
      "A\n",
      "I\n",
      "FIM\n"
     ]
    }
   ],
   "source": [
    "for letra in 'SESI/SENAI' :\n",
    "    print(letra)\n",
    "print('FIM')"
   ]
  },
  {
   "cell_type": "code",
   "execution_count": 11,
   "metadata": {},
   "outputs": [
    {
     "name": "stdout",
     "output_type": "stream",
     "text": [
      "0\n",
      "1\n",
      "2\n",
      "3\n",
      "4\n",
      "5\n",
      "6\n",
      "7\n",
      "8\n",
      "9\n"
     ]
    }
   ],
   "source": [
    "for x in range(100) :\n",
    "    if x == 10 :\n",
    "        break\n",
    "    print(x)"
   ]
  },
  {
   "cell_type": "markdown",
   "metadata": {},
   "source": [
    "28/03/2024 - Variáveis Compostas - Vetores / Listas"
   ]
  },
  {
   "cell_type": "code",
   "execution_count": 2,
   "metadata": {},
   "outputs": [
    {
     "name": "stdout",
     "output_type": "stream",
     "text": [
      "['maça', 'banana', 'abacaxi', 'uva']\n",
      "banana\n"
     ]
    }
   ],
   "source": [
    "frutas = ['maça', 'banana', 'abacaxi','uva']\n",
    "print(frutas)\n",
    "print(frutas[1])\n",
    "\n",
    "#Declaração de uma lista vazia\n",
    "lista_vazia = []\n",
    "\n",
    "#Declaração de uma lista de números \n",
    "numeros = [5, 8, 10, 40, 3]\n",
    "\n",
    "#Declaração de uma lista de strings\n",
    "nomes = ['Ana', 'Julia', 'livia']\n",
    "\n",
    "#Declaração de uma lista mista\n",
    "lista_mista = [1, \"teste\", True, 3.5]"
   ]
  },
  {
   "cell_type": "code",
   "execution_count": 11,
   "metadata": {},
   "outputs": [
    {
     "name": "stdout",
     "output_type": "stream",
     "text": [
      "['maça', 'banana', 'abacaxi', 'melancia']\n",
      "['maça', 'banana', 'abacaxi', 'melancia', 'laranja']\n",
      "['maça', 'banana', 'morango', 'abacaxi', 'melancia', 'laranja']\n",
      "['maça', 'banana', 'melancia', 'laranja']\n"
     ]
    }
   ],
   "source": [
    "frutas = ['maça', 'banana', 'abacaxi','uva']\n",
    "frutas [3]= 'melancia'\n",
    "print(frutas)\n",
    "\n",
    "\n",
    "#incluindo um novo item na lista \n",
    "frutas.append('laranja')\n",
    "print(frutas)\n",
    "\n",
    "#incluindo um novo item em uma posição específica\n",
    "frutas.insert(2, 'morango')\n",
    "print(frutas)\n",
    "\n",
    "#excluindo da lista\n",
    "#del frutas[3]\n",
    "#frutas.pop(3)\n",
    "frutas.remove('abacaxi')\n",
    "#excluindo o ultimo item da lista\n",
    "frutas.pop(2)\n",
    "print(frutas)"
   ]
  },
  {
   "cell_type": "code",
   "execution_count": 12,
   "metadata": {},
   "outputs": [
    {
     "name": "stdout",
     "output_type": "stream",
     "text": [
      "melancia\n",
      "['maça', 'banana', 'morango', 'abacaxi']\n",
      "['banana', 'morango', 'abacaxi', 'melancia', 'laranja', 'uva']\n",
      "uva\n",
      "7\n"
     ]
    }
   ],
   "source": [
    "frutas = ['maça', 'banana', 'morango','abacaxi', 'melancia', 'laranja', 'uva']\n",
    "print(frutas[4]) # Posição específica\n",
    "print(frutas [0:4]) # Da posição 0 pegar 4 itens\n",
    "print(frutas[1:]) # Da posição 1 até o ultimo\n",
    "print(frutas[-1]) # Nr de itens do fim pro inicio\n",
    "print(len(frutas)) # Total de itens da lista\n",
    "\n",
    "frutas.sort() #Ordenando lista em ordem crescente\n",
    "print(frutas)\n",
    "frutas.reverse() #Ordenando lista em ordem decrescente\n",
    "print(frutas)"
   ]
  },
  {
   "cell_type": "markdown",
   "metadata": {},
   "source": [
    " Aula 04/04/2024 -Iteração em listas"
   ]
  },
  {
   "cell_type": "code",
   "execution_count": null,
   "metadata": {},
   "outputs": [],
   "source": []
  },
  {
   "cell_type": "code",
   "execution_count": 3,
   "metadata": {},
   "outputs": [
    {
     "name": "stdout",
     "output_type": "stream",
     "text": [
      "É uma vogal\n"
     ]
    }
   ],
   "source": [
    "#Criando uma lista de vogais\n",
    "vogais = ['a', 'e', 'i', 'o', 'u']\n",
    "#Recebendo um caractere digitado pelo usuario\n",
    "letra = input('Informe um caractere')\n",
    "consoantes = ['b', 'c','d', 'f', 'g','h','j', 'k', 'l', 'm', 'n', 'p', 'q', 'r', 's', 't', 'v', 'w', 'x', 'y', 'z']\n",
    "# o metodo .lower() deixa todas as letras digitadas como minusculas\n",
    "# o método .upper()deixa todasas letras digitadas como maiúsculas\n",
    "# lemos da seguinte forma:\n",
    "# SE a letra em MINUSCULA ESTIVER na lista vogasi ENTÃO\n",
    "if letra.lower in vogais :\n",
    "    print(f'{letra}É uma vogal')\n",
    "elif letra.lower() in consoantes :\n",
    "    print(f'{letra} é uma consoante')\n",
    "else :\n",
    "    print(f'{letra} nao é uma letra')"
   ]
  },
  {
   "cell_type": "code",
   "execution_count": 4,
   "metadata": {},
   "outputs": [
    {
     "name": "stdout",
     "output_type": "stream",
     "text": [
      "Pelé\n",
      "Maradona\n",
      "Messi\n",
      "Cristiano Ronaldo\n"
     ]
    }
   ],
   "source": [
    "listaNomes = ['Pelé','Maradona', 'Messi', 'Cristiano Ronaldo']\n",
    "for nome in listaNomes :\n",
    "    print(nome)"
   ]
  },
  {
   "cell_type": "code",
   "execution_count": 5,
   "metadata": {},
   "outputs": [
    {
     "name": "stdout",
     "output_type": "stream",
     "text": [
      "4\n",
      "10\n",
      "12\n",
      "17\n",
      "26\n"
     ]
    }
   ],
   "source": [
    "listaNr = [4, 6, 2, 5, 9]\n",
    "soma = 0\n",
    "for nr in listaNr :\n",
    "    soma = soma + nr\n",
    "    print(soma)"
   ]
  },
  {
   "cell_type": "code",
   "execution_count": 6,
   "metadata": {},
   "outputs": [
    {
     "name": "stdout",
     "output_type": "stream",
     "text": [
      "A fruta Maça está na posição 0\n",
      "A fruta Banana está na posição 1\n",
      "A fruta Abacaxi está na posição 2\n",
      "A fruta Uva está na posição 3\n"
     ]
    }
   ],
   "source": [
    "listaFrutas = ['Maça', 'Banana', 'Abacaxi', 'Uva']\n",
    "for pos, fruta in enumerate(listaFrutas) :\n",
    "    print(f'A fruta {fruta} está na posição {pos}')"
   ]
  },
  {
   "cell_type": "code",
   "execution_count": 7,
   "metadata": {},
   "outputs": [
    {
     "name": "stdout",
     "output_type": "stream",
     "text": [
      "Celular\n",
      " Notebbok\n",
      " TV\n",
      " Tablet\n",
      " Headshot\n"
     ]
    }
   ],
   "source": [
    "produtos = 'Celular, Notebbok, TV, Tablet, Headshot'\n",
    "listaProdutos = produtos.split(',')\n",
    "for produto in listaProdutos:\n",
    "    print(produto)"
   ]
  },
  {
   "cell_type": "code",
   "execution_count": 9,
   "metadata": {},
   "outputs": [
    {
     "name": "stdout",
     "output_type": "stream",
     "text": [
      "S\n",
      "I\n",
      "E\n",
      "I\n",
      "N\n",
      "I\n",
      "A\n",
      "I\n",
      "I\n",
      "I\n"
     ]
    }
   ],
   "source": [
    "palavra ='SENAI'\n",
    "for letra in palavra :\n",
    "    print(letra)\n",
    "    print(palavra[-1])"
   ]
  },
  {
   "cell_type": "code",
   "execution_count": 2,
   "metadata": {},
   "outputs": [
    {
     "name": "stdout",
     "output_type": "stream",
     "text": [
      "1º lasanha\n",
      "2º pizza\n",
      "3º lanche\n",
      "4º cachorro\n"
     ]
    }
   ],
   "source": [
    "#Criando uma lista vazia\n",
    "listaComidas =[]\n",
    "#Laço de repetição sem um número de execução definida\n",
    "while True :\n",
    "    comida = input('Digite uma comida que você mais gosta:')\n",
    "    #Inserindo o valor da variavel no final da nossa lista\n",
    "    listaComidas.append(comida)\n",
    "    resp = input('Deseja continuar? [S/N]')\n",
    "    #Verificando condição da resposta dele, se for N ou n sair do laço\n",
    "    if resp in 'Nn' :\n",
    "        #Parando o laço de repetição while\n",
    "        break\n",
    "#Fora do meu while - após finalizar sua executação e encontrar o break\n",
    "#Laço de repetição para exibir os itens e suas posições \n",
    "for pos, comida in enumerate(listaComidas) :\n",
    "    #Exibindo as variáveis de cada item da lista\n",
    "    print(f'{pos+1}º {comida}')\n",
    " "
   ]
  },
  {
   "cell_type": "markdown",
   "metadata": {},
   "source": [
    "11/04/2024 - Funções"
   ]
  },
  {
   "cell_type": "code",
   "execution_count": 1,
   "metadata": {},
   "outputs": [
    {
     "name": "stdout",
     "output_type": "stream",
     "text": [
      "--------------------\n",
      "SESI / SENAI\n",
      "--------------------\n"
     ]
    }
   ],
   "source": [
    "print ( '-' * 20)\n",
    "print('SESI / SENAI')\n",
    "print('-' *20)"
   ]
  },
  {
   "cell_type": "code",
   "execution_count": 5,
   "metadata": {},
   "outputs": [
    {
     "name": "stdout",
     "output_type": "stream",
     "text": [
      "$$$$$$$$$$$$$$$$$$$$\n",
      "SESI/SENAI\n",
      "$$$$$$$$$$$$$$$$$$$$\n"
     ]
    }
   ],
   "source": [
    "def Linha () :\n",
    "    print('$' * 20)\n",
    "Linha()\n",
    "print('SESI/SENAI')\n",
    "Linha()"
   ]
  },
  {
   "cell_type": "code",
   "execution_count": 6,
   "metadata": {},
   "outputs": [
    {
     "name": "stdout",
     "output_type": "stream",
     "text": [
      "--------------------\n",
      "SESI/SENAI\n",
      "--------------------\n"
     ]
    }
   ],
   "source": [
    "def Cabecalho() :\n",
    "    print('-' * 20)\n",
    "    print('SESI/SENAI')\n",
    "    print('-' * 20)\n",
    "Cabecalho()"
   ]
  },
  {
   "cell_type": "code",
   "execution_count": 15,
   "metadata": {},
   "outputs": [
    {
     "name": "stdout",
     "output_type": "stream",
     "text": [
      "loham...tenha um bom dia\n",
      "loham...tenha um bom dia\n",
      "loham...tenha um bom dia\n"
     ]
    }
   ],
   "source": [
    "nome = input('Digite seu nome:')\n",
    "def saudacao() :\n",
    "    print(f'{nome}...tenha um bom dia')\n",
    "saudacao()\n",
    "saudacao()\n",
    "saudacao()\n",
    "    "
   ]
  },
  {
   "cell_type": "code",
   "execution_count": 4,
   "metadata": {},
   "outputs": [
    {
     "ename": "NameError",
     "evalue": "name 'Linha' is not defined",
     "output_type": "error",
     "traceback": [
      "\u001b[1;31m---------------------------------------------------------------------------\u001b[0m",
      "\u001b[1;31mNameError\u001b[0m                                 Traceback (most recent call last)",
      "Cell \u001b[1;32mIn[4], line 5\u001b[0m\n\u001b[0;32m      3\u001b[0m     \u001b[38;5;28mprint\u001b[39m(texto)\n\u001b[0;32m      4\u001b[0m     Linha()\n\u001b[1;32m----> 5\u001b[0m \u001b[43mcabecalho\u001b[49m\u001b[43m(\u001b[49m\u001b[38;5;124;43m'\u001b[39;49m\u001b[38;5;124;43mSESI\u001b[39;49m\u001b[38;5;124;43m'\u001b[39;49m\u001b[43m)\u001b[49m\n\u001b[0;32m      6\u001b[0m cabecalho(\u001b[38;5;124m'\u001b[39m\u001b[38;5;124mSENAI\u001b[39m\u001b[38;5;124m'\u001b[39m)\n\u001b[0;32m      7\u001b[0m cabecalho(\u001b[38;5;124m'\u001b[39m\u001b[38;5;124mESCOLA\u001b[39m\u001b[38;5;124m'\u001b[39m)\n",
      "Cell \u001b[1;32mIn[4], line 2\u001b[0m, in \u001b[0;36mcabecalho\u001b[1;34m(texto)\u001b[0m\n\u001b[0;32m      1\u001b[0m \u001b[38;5;28;01mdef\u001b[39;00m \u001b[38;5;21mcabecalho\u001b[39m(texto) :\n\u001b[1;32m----> 2\u001b[0m     \u001b[43mLinha\u001b[49m()\n\u001b[0;32m      3\u001b[0m     \u001b[38;5;28mprint\u001b[39m(texto)\n\u001b[0;32m      4\u001b[0m     Linha()\n",
      "\u001b[1;31mNameError\u001b[0m: name 'Linha' is not defined"
     ]
    }
   ],
   "source": [
    "def cabecalho(texto) :\n",
    "    Linha()\n",
    "    print(texto)\n",
    "    Linha()\n",
    "cabecalho('SESI')\n",
    "cabecalho('SENAI')\n",
    "cabecalho('ESCOLA')"
   ]
  },
  {
   "cell_type": "code",
   "execution_count": 6,
   "metadata": {},
   "outputs": [
    {
     "name": "stdout",
     "output_type": "stream",
     "text": [
      "A soma de 10 + 5 é 15\n"
     ]
    }
   ],
   "source": [
    "def Soma(n1,n2) :\n",
    "    res = n1 + n2 \n",
    "    print(f'A soma de {n1} + {n2} é {res}')\n",
    "Soma(10,5)"
   ]
  },
  {
   "cell_type": "code",
   "execution_count": 1,
   "metadata": {},
   "outputs": [
    {
     "name": "stdout",
     "output_type": "stream",
     "text": [
      "O nr 3 é ímpar\n",
      "O nr 18 é par\n"
     ]
    }
   ],
   "source": [
    "def ParImpar(numero) :\n",
    "    if numero % 2 == 0 :\n",
    "        print(f'O nr {numero} é par')\n",
    "    else :\n",
    "        print(f'O nr {numero} é ímpar')\n",
    "\n",
    "ParImpar(3)\n",
    "ParImpar(18)"
   ]
  },
  {
   "cell_type": "code",
   "execution_count": 3,
   "metadata": {},
   "outputs": [
    {
     "name": "stdout",
     "output_type": "stream",
     "text": [
      "9.0\n",
      "6.0\n"
     ]
    },
    {
     "data": {
      "text/plain": [
       "9.0"
      ]
     },
     "execution_count": 3,
     "metadata": {},
     "output_type": "execute_result"
    }
   ],
   "source": [
    "def Media(n1, n2) :\n",
    "    res = (n1 +n2) / 2\n",
    "    return(res)\n",
    "\n",
    "# A variável resultado_media recebe o retorno da função Media\n",
    "resultado_media = Media(10, 8)\n",
    "print(resultado_media)\n",
    "print(Media(10, 2))\n",
    "Media(10, 8)"
   ]
  },
  {
   "cell_type": "code",
   "execution_count": 5,
   "metadata": {},
   "outputs": [
    {
     "name": "stdout",
     "output_type": "stream",
     "text": [
      "25/12/1987\n",
      "27/2/1989\n"
     ]
    }
   ],
   "source": [
    "def FormatarData(dia, mes, ano) :\n",
    "    data = f'{dia}/{mes}/{ano}'\n",
    "    return(data)\n",
    "print(FormatarData(25, 12, 1987))\n",
    "print(FormatarData(27, 2, 1989))\n"
   ]
  },
  {
   "cell_type": "markdown",
   "metadata": {},
   "source": [
    "11/04/2024 - Espaço de variáveis(Variável local e global)"
   ]
  },
  {
   "cell_type": "code",
   "execution_count": 2,
   "metadata": {},
   "outputs": [
    {
     "name": "stdout",
     "output_type": "stream",
     "text": [
      "Valor ANTES da função SENAI\n",
      "Valor dentro da função SESI\n",
      "Valor DEPOIS da função SENAI\n"
     ]
    }
   ],
   "source": [
    "def NomeEscola() :\n",
    "    #Caso eu queria atualizar o conteúdo da variável\n",
    "    #Preciso escrever que ela é global\n",
    "     global escola  \n",
    "     escola = 'SESI' #Alterando o valor da variavel\n",
    "     print(f'Valor dentro da função {escola}')\n",
    " \n",
    "escola = 'SENAI'\n",
    "print(f'Valor ANTES da função {escola}')\n",
    "NomeEscola()\n",
    "print(f'Valor DEPOIS da função {escola}')\n",
    "\n"
   ]
  },
  {
   "cell_type": "code",
   "execution_count": 3,
   "metadata": {},
   "outputs": [
    {
     "name": "stdout",
     "output_type": "stream",
     "text": [
      "fora da função 10\n",
      "Dentro da função 1\n",
      "fora da função 1\n"
     ]
    }
   ],
   "source": [
    "x = 10 # x é uma variável global\n",
    "#Podemos acessar x fora de uma função também\n",
    "print('fora da função', x)\n",
    "\n",
    "def minhaFunção() : \n",
    "    '''\n",
    "       Aqui posso escrever a descrição do que faz a minha função \n",
    "    '''\n",
    "    global x #Dizendo que usaremos a variavel x global\n",
    "    x = 0 # <- variável local\n",
    "    x = x + 1\n",
    "    print('Dentro da função', x)\n",
    "     \n",
    "minhaFunção()\n",
    "print('fora da função',x)"
   ]
  }
 ],
 "metadata": {
  "kernelspec": {
   "display_name": "Python 3",
   "language": "python",
   "name": "python3"
  },
  "language_info": {
   "codemirror_mode": {
    "name": "ipython",
    "version": 3
   },
   "file_extension": ".py",
   "mimetype": "text/x-python",
   "name": "python",
   "nbconvert_exporter": "python",
   "pygments_lexer": "ipython3",
   "version": "3.12.3"
  }
 },
 "nbformat": 4,
 "nbformat_minor": 2
}
