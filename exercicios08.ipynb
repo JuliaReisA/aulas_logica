{
 "cells": [
  {
   "cell_type": "markdown",
   "metadata": {},
   "source": [
    "1- Crie uma lista com os números de 1 a 10 e imprima cada número."
   ]
  },
  {
   "cell_type": "code",
   "execution_count": 16,
   "metadata": {},
   "outputs": [
    {
     "name": "stdout",
     "output_type": "stream",
     "text": [
      "1\n",
      "2\n",
      "3\n",
      "4\n",
      "5\n",
      "6\n",
      "7\n",
      "8\n",
      "9\n",
      "10\n"
     ]
    }
   ],
   "source": [
    "listaNr = [1, 2, 3, 4, 5, 6, 7, 8, 9, 10]\n",
    "for nr in listaNr :\n",
    "    print(nr)"
   ]
  },
  {
   "cell_type": "markdown",
   "metadata": {},
   "source": [
    "2- Crie uma lista com os nomes de três amigos e imprima cada nome."
   ]
  },
  {
   "cell_type": "code",
   "execution_count": 3,
   "metadata": {},
   "outputs": [
    {
     "name": "stdout",
     "output_type": "stream",
     "text": [
      "Joao\n",
      "Livia\n",
      "Loham\n"
     ]
    }
   ],
   "source": [
    "listanomes = ['Joao','Livia','Loham']\n",
    "for nome in listanomes :\n",
    "    print(nome)\n"
   ]
  },
  {
   "cell_type": "markdown",
   "metadata": {},
   "source": [
    "3 - Crie uma lista com os meses do ano e imprima apenas os meses que começam com \"J\"."
   ]
  },
  {
   "cell_type": "code",
   "execution_count": 8,
   "metadata": {},
   "outputs": [
    {
     "name": "stdout",
     "output_type": "stream",
     "text": [
      "Janeiro\n",
      "Junho\n",
      "Julho\n"
     ]
    }
   ],
   "source": [
    "listameses = ['Janeiro', 'fevereiro','Março', 'Abril','maio', 'Junho','Julho','agosto','setembro', 'outubro', 'novembro', 'dezembro']\n",
    "for mes in listameses :\n",
    "    if mes[0] == \"J\" :\n",
    "        print (mes)"
   ]
  },
  {
   "cell_type": "markdown",
   "metadata": {},
   "source": [
    "4 - Crie uma lista com as palavras \"gato\", \"cachorro\", \"pássaro\" e \"peixe\", e imprima cada palavra\n",
    "em maiúsculas."
   ]
  },
  {
   "cell_type": "code",
   "execution_count": 10,
   "metadata": {},
   "outputs": [
    {
     "name": "stdout",
     "output_type": "stream",
     "text": [
      "GATO\n",
      "CACHORRO\n",
      "PÁSSARO\n",
      "PEIXE\n"
     ]
    }
   ],
   "source": [
    "listaanimais = ['Gato', 'Cachorro', 'Pássaro', 'Peixe']\n",
    "for animal in listaanimais :\n",
    "  print(animal.upper())"
   ]
  },
  {
   "cell_type": "markdown",
   "metadata": {},
   "source": [
    "5 - Crie uma lista com 5 números aleatórios e exiba o nr e seu dobro desse."
   ]
  },
  {
   "cell_type": "code",
   "execution_count": 11,
   "metadata": {},
   "outputs": [
    {
     "name": "stdout",
     "output_type": "stream",
     "text": [
      "Os numeros são 50 e o dobro é 100\n",
      "Os numeros são 926 e o dobro é 1852\n",
      "Os numeros são 63 e o dobro é 126\n",
      "Os numeros são 403 e o dobro é 806\n",
      "Os numeros são 187 e o dobro é 374\n"
     ]
    }
   ],
   "source": [
    "import random\n",
    "for nrSorteado in range(1,6) :\n",
    "    nrSorteado = random.randint(1,1000)\n",
    "    print(f'Os numeros são {nrSorteado} e o dobro é {nrSorteado * 2}')\n",
    "\n"
   ]
  },
  {
   "cell_type": "markdown",
   "metadata": {},
   "source": [
    "6 - Crie uma lista com valores numéricos e encontre o maior e o menor elemento dessa lista."
   ]
  },
  {
   "cell_type": "code",
   "execution_count": 17,
   "metadata": {},
   "outputs": [
    {
     "name": "stdout",
     "output_type": "stream",
     "text": [
      "2 2\n",
      "2 4\n",
      "2 10\n",
      "2 18\n",
      "2 64\n"
     ]
    }
   ],
   "source": [
    "listaNrs = [2, 4, 10, 18, 64]\n",
    "menorNr = 100000000\n",
    "maiorNr = 0\n",
    "for nrAtual in listaNrs :\n",
    "    if nrAtual > maiorNr :\n",
    "        maiorNr = nrAtual\n",
    "    if nrAtual < menorNr :\n",
    "        menorNr = nrAtual\n",
    "    print(menorNr, maiorNr)\n"
   ]
  },
  {
   "cell_type": "markdown",
   "metadata": {},
   "source": [
    "7 - Receba uma palavra do usuário e calcule quantas vogais há nesta palavra."
   ]
  },
  {
   "cell_type": "code",
   "execution_count": 20,
   "metadata": {},
   "outputs": [
    {
     "name": "stdout",
     "output_type": "stream",
     "text": [
      "a palavra itaquaquecetuba tem 9 vogais\n"
     ]
    }
   ],
   "source": [
    "palavra = input('Digite um palavra')\n",
    "vogais = ['a', 'e', 'i', 'o', 'u']\n",
    "qntdeVogais = 0\n",
    "for letra in palavra :\n",
    "    if letra in vogais :\n",
    "        qntdeVogais = qntdeVogais + 1 \n",
    "\n",
    "print(f'a palavra {palavra} tem {qntdeVogais} vogais')"
   ]
  },
  {
   "cell_type": "markdown",
   "metadata": {},
   "source": [
    "8 - Nessa string ‘Gol;Corsa;Palio;Monza;Fusca;’, faça a separação desses itens para uma lista e\n",
    "exiba o item e a posição que ele está"
   ]
  },
  {
   "cell_type": "code",
   "execution_count": 15,
   "metadata": {},
   "outputs": [
    {
     "name": "stdout",
     "output_type": "stream",
     "text": [
      "O carro Gol está na posição 1\n",
      "O carro Corsa está na posição 2\n",
      "O carro Palio está na posição 3\n",
      "O carro Monza está na posição 4\n",
      "O carro Fusca está na posição 5\n"
     ]
    }
   ],
   "source": [
    "listacarros = ['Gol', 'Corsa', 'Palio', 'Monza', 'Fusca']\n",
    "for pos, carro in enumerate(listacarros) :\n",
    "    print(f'O carro {carro} está na posição {pos +1}')"
   ]
  }
 ],
 "metadata": {
  "kernelspec": {
   "display_name": "Python 3",
   "language": "python",
   "name": "python3"
  },
  "language_info": {
   "codemirror_mode": {
    "name": "ipython",
    "version": 3
   },
   "file_extension": ".py",
   "mimetype": "text/x-python",
   "name": "python",
   "nbconvert_exporter": "python",
   "pygments_lexer": "ipython3",
   "version": "3.12.3"
  }
 },
 "nbformat": 4,
 "nbformat_minor": 2
}
