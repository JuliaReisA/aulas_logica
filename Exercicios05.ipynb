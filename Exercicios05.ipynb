{
 "cells": [
  {
   "cell_type": "markdown",
   "metadata": {},
   "source": [
    "1. Utilizando o comando while, exiba todos os números pares, de 1 a 20."
   ]
  },
  {
   "cell_type": "code",
   "execution_count": 1,
   "metadata": {},
   "outputs": [
    {
     "name": "stdout",
     "output_type": "stream",
     "text": [
      "O numero 2 é par\n",
      "O numero 4 é par\n",
      "O numero 6 é par\n",
      "O numero 8 é par\n",
      "O numero 10 é par\n",
      "O numero 12 é par\n",
      "O numero 14 é par\n",
      "O numero 16 é par\n",
      "O numero 18 é par\n",
      "O numero 20 é par\n"
     ]
    }
   ],
   "source": [
    "x = 1\n",
    "while x <= 20 :\n",
    "    if x % 2 == 0 :\n",
    "        print(f'O numero {x} é par')\n",
    "    x = x + 1"
   ]
  },
  {
   "cell_type": "markdown",
   "metadata": {},
   "source": [
    "2. Gere os 6 números do sorteio da mega-sena de forma aleatória."
   ]
  },
  {
   "cell_type": "code",
   "execution_count": 1,
   "metadata": {},
   "outputs": [
    {
     "name": "stdout",
     "output_type": "stream",
     "text": [
      "O número sorteado é 4\n",
      "O número sorteado é 42\n",
      "O número sorteado é 19\n",
      "O número sorteado é 31\n",
      "O número sorteado é 56\n",
      "O número sorteado é 52\n"
     ]
    }
   ],
   "source": [
    "import random\n",
    "x = 1\n",
    "while x <= 6 :\n",
    "    nr_sorteado = random.randint(1, 60)\n",
    "    print(f'O número sorteado é {nr_sorteado}')\n",
    "    x = x + 1 \n",
    "\n",
    "\n",
    "\n",
    "\n"
   ]
  },
  {
   "cell_type": "markdown",
   "metadata": {},
   "source": [
    "3. Receba alguns número e verifique a soma e a quantidade de todos os pares e ímpares\n",
    "digitados, digite 0 para não receber mais"
   ]
  },
  {
   "cell_type": "code",
   "execution_count": 4,
   "metadata": {},
   "outputs": [
    {
     "name": "stdout",
     "output_type": "stream",
     "text": [
      " A soma dos números é 5.0\n",
      "A quantidade de números pares é 0. A quantidade de números impares é 0\n",
      " A soma dos números é 12.0\n",
      "A quantidade de números pares é 0. A quantidade de números impares é 0\n"
     ]
    }
   ],
   "source": [
    "\n",
    "soma = 0\n",
    "qntdepar = 0\n",
    "qntdeimpar  = 0\n",
    "while True:\n",
    "    numero = float(input('Digite um número: [para não receber mais digite 0]'))\n",
    "    if numero == 0 :\n",
    "        break\n",
    "    elif numero % 2 == 0 :\n",
    "        soma = numero + soma\n",
    "        qntd = qntdepar + 1\n",
    "    else :\n",
    "        soma = numero + soma \n",
    "        qntdeimpar + qntd + 1\n",
    "        print(f' A soma dos números é {soma}')\n",
    "        print(f'A quantidade de números pares é {qntdepar}. A quantidade de números impares é {qntdeimpar}')\n",
    "\n"
   ]
  }
 ],
 "metadata": {
  "kernelspec": {
   "display_name": "Python 3",
   "language": "python",
   "name": "python3"
  },
  "language_info": {
   "codemirror_mode": {
    "name": "ipython",
    "version": 3
   },
   "file_extension": ".py",
   "mimetype": "text/x-python",
   "name": "python",
   "nbconvert_exporter": "python",
   "pygments_lexer": "ipython3",
   "version": "3.12.3"
  }
 },
 "nbformat": 4,
 "nbformat_minor": 2
}
